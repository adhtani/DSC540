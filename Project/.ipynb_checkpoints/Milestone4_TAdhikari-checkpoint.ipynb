{
 "cells": [
  {
   "cell_type": "markdown",
   "metadata": {},
   "source": [
    "## Project: Milestone 4\n",
    "\n",
    "### DSC 540\n",
    "\n",
    "#### Taniya Adhikari 2/26/2021"
   ]
  },
  {
   "cell_type": "code",
   "execution_count": 1,
   "metadata": {},
   "outputs": [],
   "source": [
    "from bs4 import BeautifulSoup as BS\n",
    "import numpy as np\n",
    "import pandas as pd\n",
    "import matplotlib.pyplot as plt\n",
    "import seaborn as sns\n",
    "import requests\n",
    "import urllib.request, urllib.parse \n",
    "from urllib.error import HTTPError,URLError \n",
    "import json\n",
    "from urllib.request import urlopen\n",
    "import warnings; warnings.simplefilter('ignore')\n",
    "from time import sleep\n",
    "from pandas import json_normalize \n",
    "\n",
    "%matplotlib inline"
   ]
  },
  {
   "cell_type": "markdown",
   "metadata": {},
   "source": [
    "### 1. Reading the data from API and Converting it into dataframe"
   ]
  },
  {
   "cell_type": "markdown",
   "metadata": {},
   "source": [
    "First get the list of ticker symbols from the previous mil."
   ]
  },
  {
   "cell_type": "code",
   "execution_count": 2,
   "metadata": {},
   "outputs": [],
   "source": [
    "df = pd.read_csv(\"clean_htm_data.csv\")"
   ]
  },
  {
   "cell_type": "code",
   "execution_count": 3,
   "metadata": {},
   "outputs": [],
   "source": [
    "ticker_symbols = df[\"Ticker\"].tolist()"
   ]
  },
  {
   "cell_type": "code",
   "execution_count": 4,
   "metadata": {},
   "outputs": [],
   "source": [
    "def divide_chunks(l, n): \n",
    "      \n",
    "    # looping till length l \n",
    "    for i in range(0, len(l), n):  \n",
    "        yield l[i:i + n] \n",
    "  \n",
    "# How many elements each \n",
    "# list should have \n",
    "n = 5\n",
    "  \n",
    "ticker = list(divide_chunks(ticker_symbols, n)) \n"
   ]
  },
  {
   "cell_type": "markdown",
   "metadata": {},
   "source": [
    "Splitting the ticker symbols into multiple chunks, to retrieve data. API has limitations of 5 ticker symbol per request and has only 250 daily limitations."
   ]
  },
  {
   "cell_type": "code",
   "execution_count": 7,
   "metadata": {},
   "outputs": [
    {
     "data": {
      "text/plain": [
       "445"
      ]
     },
     "execution_count": 7,
     "metadata": {},
     "output_type": "execute_result"
    }
   ],
   "source": [
    "len(ticker)"
   ]
  },
  {
   "cell_type": "code",
   "execution_count": 8,
   "metadata": {},
   "outputs": [],
   "source": [
    "def get_jsonparsed_data(url):\n",
    "    \n",
    "    response = urlopen(url)\n",
    "    data = response.read().decode(\"utf-8\")\n",
    "    return json.loads(data)"
   ]
  },
  {
   "cell_type": "code",
   "execution_count": 11,
   "metadata": {},
   "outputs": [],
   "source": [
    "def retrieve_data(ticker, api, n, i):\n",
    "    serviceurl = 'https://financialmodelingprep.com/api/v3/historical-price-full/'\n",
    "    time = '?from=2021-02-15&to=2021-02-26&'\n",
    "    i = i\n",
    "    batch = ''\n",
    "    appended_data = []\n",
    "\n",
    "    while i < n:\n",
    "        batch = ','.join(ticker[i])\n",
    "        url = (serviceurl + batch + time + api)\n",
    "        \n",
    "        # API terms to wait 10 seconds before requesting next\n",
    "        sleep(10)\n",
    "        data = get_jsonparsed_data(url)\n",
    "        # checks for missing symbols list\n",
    "        try:\n",
    "            historical_data = json_normalize(data=data['historicalStockList'], record_path='historical', meta='symbol')\n",
    "            appended_data.append(historical_data)\n",
    "        except:\n",
    "            print('list not found')\n",
    "            print(batch)\n",
    "            pass\n",
    "\n",
    "        i = i+1\n",
    "        \n",
    "    df = pd.concat(appended_data)\n",
    "    return df"
   ]
  },
  {
   "cell_type": "markdown",
   "metadata": {},
   "source": [
    "Batch 1"
   ]
  },
  {
   "cell_type": "code",
   "execution_count": 14,
   "metadata": {},
   "outputs": [
    {
     "name": "stdout",
     "output_type": "stream",
     "text": [
      "list not found\n",
      "MCRI,LGVW,CTS,SIBN,GNMK\n",
      "list not found\n",
      "AJAX,BOLT,CHCO,MGPI,ADVM\n",
      "list not found\n",
      "CLOV,ITOS,EVER,RDWR,EIGI\n",
      "list not found\n",
      "VOR,RPTX,TNC,CEVA,TPGY\n",
      "list not found\n",
      "SUPN,WABC,VRTU,NKTX,HEP\n",
      "list not found\n",
      "KAI,BANR,GTN.A,PAR,NTB\n",
      "list not found\n",
      "ZYME,TWNK,BUR,BH.A,CSWI\n",
      "list not found\n",
      "TAC,BEAT,MCRB,PUBM,ANAT\n",
      "list not found\n",
      "MOG.A,FUN,TTGT,RKT,FCFS\n",
      "list not found\n",
      "MOG.B,ENBL,BRC,PDCE,TRQ\n",
      "list not found\n",
      "ATKR,JW.B,UCBI,CVBF,SMPL\n",
      "list not found\n",
      "PRMW,WERN,SFNC,NNI,JW.A\n",
      "list not found\n",
      "ITCI,MC,LGF.B,BOX,CATY\n",
      "list not found\n",
      "BECN,GHC,LAUR,GEF.B,EAF\n",
      "list not found\n",
      "HWC,NNOX,LGF.A,CNS,ENR\n",
      "list not found\n",
      "BCO,CWEN.A,TRN,OPK,ALKS\n"
     ]
    }
   ],
   "source": [
    "api_1 = 'apikey=2d9d208e7f3ddc49049cbdd07b1f1db3'\n",
    "df_1 = retrieve_data(ticker, api_1, 250, 0)"
   ]
  },
  {
   "cell_type": "markdown",
   "metadata": {},
   "source": [
    "Batch 2"
   ]
  },
  {
   "cell_type": "code",
   "execution_count": 20,
   "metadata": {},
   "outputs": [
    {
     "name": "stdout",
     "output_type": "stream",
     "text": [
      "list not found\n",
      "SNA,HSIC,SBNY,IVZ,WSO.B\n",
      "list not found\n",
      "UHS,RPM,AXON,TAP.A,PEGA\n",
      "list not found\n",
      "CGNX,PBA,JBHT,WAB,HEI.A\n",
      "list not found\n",
      "CZR,AVTR,BIO.B,HEI,DOV\n",
      "list not found\n",
      "CBRE,VRSN,LEN.B,FITB,MGA\n",
      "list not found\n",
      "MKC.V,CLX,MKC,YUMC,ANET\n",
      "list not found\n",
      "ZBH,BF.A,XEL,VIAC,VIACA\n",
      "list not found\n",
      "INFO,MSCI,RACE,IQV,BF.B\n",
      "list not found\n",
      "STZ.B,EA,TDOC,KHC,MTCH\n",
      "list not found\n",
      "V,BRK.B,BRK.A,FB,TSLA\n"
     ]
    }
   ],
   "source": [
    "api_2 = 'apikey=1c7a6e10642f30c26926b9fe76ff7293'\n",
    "df_2 = retrieve_data(ticker, api_2, 445, 250)"
   ]
  },
  {
   "cell_type": "markdown",
   "metadata": {},
   "source": [
    "Now the data is ready to be merged into single file"
   ]
  },
  {
   "cell_type": "code",
   "execution_count": 22,
   "metadata": {},
   "outputs": [
    {
     "data": {
      "text/html": [
       "<div>\n",
       "<style scoped>\n",
       "    .dataframe tbody tr th:only-of-type {\n",
       "        vertical-align: middle;\n",
       "    }\n",
       "\n",
       "    .dataframe tbody tr th {\n",
       "        vertical-align: top;\n",
       "    }\n",
       "\n",
       "    .dataframe thead th {\n",
       "        text-align: right;\n",
       "    }\n",
       "</style>\n",
       "<table border=\"1\" class=\"dataframe\">\n",
       "  <thead>\n",
       "    <tr style=\"text-align: right;\">\n",
       "      <th></th>\n",
       "      <th>date</th>\n",
       "      <th>open</th>\n",
       "      <th>high</th>\n",
       "      <th>low</th>\n",
       "      <th>close</th>\n",
       "      <th>adjClose</th>\n",
       "      <th>volume</th>\n",
       "      <th>unadjustedVolume</th>\n",
       "      <th>change</th>\n",
       "      <th>changePercent</th>\n",
       "      <th>vwap</th>\n",
       "      <th>label</th>\n",
       "      <th>changeOverTime</th>\n",
       "      <th>symbol</th>\n",
       "    </tr>\n",
       "  </thead>\n",
       "  <tbody>\n",
       "    <tr>\n",
       "      <th>0</th>\n",
       "      <td>2021-02-26</td>\n",
       "      <td>25.150000</td>\n",
       "      <td>26.820000</td>\n",
       "      <td>24.290001</td>\n",
       "      <td>26.040001</td>\n",
       "      <td>26.040001</td>\n",
       "      <td>621381.0</td>\n",
       "      <td>621381.0</td>\n",
       "      <td>0.89</td>\n",
       "      <td>3.539</td>\n",
       "      <td>25.71667</td>\n",
       "      <td>February 26, 21</td>\n",
       "      <td>0.03539</td>\n",
       "      <td>TGH</td>\n",
       "    </tr>\n",
       "    <tr>\n",
       "      <th>1</th>\n",
       "      <td>2021-02-25</td>\n",
       "      <td>27.059999</td>\n",
       "      <td>27.530001</td>\n",
       "      <td>25.180000</td>\n",
       "      <td>25.260000</td>\n",
       "      <td>25.260000</td>\n",
       "      <td>633600.0</td>\n",
       "      <td>633600.0</td>\n",
       "      <td>-1.80</td>\n",
       "      <td>-6.652</td>\n",
       "      <td>25.99000</td>\n",
       "      <td>February 25, 21</td>\n",
       "      <td>-0.06652</td>\n",
       "      <td>TGH</td>\n",
       "    </tr>\n",
       "  </tbody>\n",
       "</table>\n",
       "</div>"
      ],
      "text/plain": [
       "         date       open       high        low      close   adjClose  \\\n",
       "0  2021-02-26  25.150000  26.820000  24.290001  26.040001  26.040001   \n",
       "1  2021-02-25  27.059999  27.530001  25.180000  25.260000  25.260000   \n",
       "\n",
       "     volume  unadjustedVolume  change  changePercent      vwap  \\\n",
       "0  621381.0          621381.0    0.89          3.539  25.71667   \n",
       "1  633600.0          633600.0   -1.80         -6.652  25.99000   \n",
       "\n",
       "             label  changeOverTime symbol  \n",
       "0  February 26, 21         0.03539    TGH  \n",
       "1  February 25, 21        -0.06652    TGH  "
      ]
     },
     "execution_count": 22,
     "metadata": {},
     "output_type": "execute_result"
    }
   ],
   "source": [
    "df_1.head(2)"
   ]
  },
  {
   "cell_type": "code",
   "execution_count": 23,
   "metadata": {},
   "outputs": [
    {
     "data": {
      "text/html": [
       "<div>\n",
       "<style scoped>\n",
       "    .dataframe tbody tr th:only-of-type {\n",
       "        vertical-align: middle;\n",
       "    }\n",
       "\n",
       "    .dataframe tbody tr th {\n",
       "        vertical-align: top;\n",
       "    }\n",
       "\n",
       "    .dataframe thead th {\n",
       "        text-align: right;\n",
       "    }\n",
       "</style>\n",
       "<table border=\"1\" class=\"dataframe\">\n",
       "  <thead>\n",
       "    <tr style=\"text-align: right;\">\n",
       "      <th></th>\n",
       "      <th>date</th>\n",
       "      <th>open</th>\n",
       "      <th>high</th>\n",
       "      <th>low</th>\n",
       "      <th>close</th>\n",
       "      <th>adjClose</th>\n",
       "      <th>volume</th>\n",
       "      <th>unadjustedVolume</th>\n",
       "      <th>change</th>\n",
       "      <th>changePercent</th>\n",
       "      <th>vwap</th>\n",
       "      <th>label</th>\n",
       "      <th>changeOverTime</th>\n",
       "      <th>symbol</th>\n",
       "    </tr>\n",
       "  </thead>\n",
       "  <tbody>\n",
       "    <tr>\n",
       "      <th>0</th>\n",
       "      <td>2021-02-26</td>\n",
       "      <td>36.80</td>\n",
       "      <td>37.300000</td>\n",
       "      <td>36.185000</td>\n",
       "      <td>36.60</td>\n",
       "      <td>36.60</td>\n",
       "      <td>977381.0</td>\n",
       "      <td>977381.0</td>\n",
       "      <td>-0.20</td>\n",
       "      <td>-0.543</td>\n",
       "      <td>36.695</td>\n",
       "      <td>February 26, 21</td>\n",
       "      <td>-0.00543</td>\n",
       "      <td>SKX</td>\n",
       "    </tr>\n",
       "    <tr>\n",
       "      <th>1</th>\n",
       "      <td>2021-02-25</td>\n",
       "      <td>38.02</td>\n",
       "      <td>38.560001</td>\n",
       "      <td>36.240002</td>\n",
       "      <td>36.68</td>\n",
       "      <td>36.68</td>\n",
       "      <td>991300.0</td>\n",
       "      <td>991300.0</td>\n",
       "      <td>-1.34</td>\n",
       "      <td>-3.524</td>\n",
       "      <td>37.160</td>\n",
       "      <td>February 25, 21</td>\n",
       "      <td>-0.03524</td>\n",
       "      <td>SKX</td>\n",
       "    </tr>\n",
       "  </tbody>\n",
       "</table>\n",
       "</div>"
      ],
      "text/plain": [
       "         date   open       high        low  close  adjClose    volume  \\\n",
       "0  2021-02-26  36.80  37.300000  36.185000  36.60     36.60  977381.0   \n",
       "1  2021-02-25  38.02  38.560001  36.240002  36.68     36.68  991300.0   \n",
       "\n",
       "   unadjustedVolume  change  changePercent    vwap            label  \\\n",
       "0          977381.0   -0.20         -0.543  36.695  February 26, 21   \n",
       "1          991300.0   -1.34         -3.524  37.160  February 25, 21   \n",
       "\n",
       "   changeOverTime symbol  \n",
       "0        -0.00543    SKX  \n",
       "1        -0.03524    SKX  "
      ]
     },
     "execution_count": 23,
     "metadata": {},
     "output_type": "execute_result"
    }
   ],
   "source": [
    "df_2.head(2)"
   ]
  },
  {
   "cell_type": "code",
   "execution_count": 25,
   "metadata": {},
   "outputs": [
    {
     "data": {
      "text/plain": [
       "(18853, 14)"
      ]
     },
     "execution_count": 25,
     "metadata": {},
     "output_type": "execute_result"
    }
   ],
   "source": [
    "api_df = pd.concat([df_1, df_2])\n",
    "api_df.shape"
   ]
  },
  {
   "cell_type": "markdown",
   "metadata": {},
   "source": [
    "### 2. Stripping string data of whitespace"
   ]
  },
  {
   "cell_type": "code",
   "execution_count": 29,
   "metadata": {},
   "outputs": [],
   "source": [
    "def no_whitespace(string):\n",
    "    return string.strip()\n",
    "\n",
    "# stripping white space from all column type as object\n",
    "def clean_string(df):\n",
    "    \n",
    "    for col in df.columns:\n",
    "        if df[col].dtype == np.object:\n",
    "            new = '{}_new'.format(col)\n",
    "            df[new] = df[col].apply(no_whitespace)\n",
    "            df[col] = df[new]\n",
    "            df = df.drop(columns=[new])\n",
    "    return df\n"
   ]
  },
  {
   "cell_type": "code",
   "execution_count": 32,
   "metadata": {},
   "outputs": [
    {
     "data": {
      "text/html": [
       "<div>\n",
       "<style scoped>\n",
       "    .dataframe tbody tr th:only-of-type {\n",
       "        vertical-align: middle;\n",
       "    }\n",
       "\n",
       "    .dataframe tbody tr th {\n",
       "        vertical-align: top;\n",
       "    }\n",
       "\n",
       "    .dataframe thead th {\n",
       "        text-align: right;\n",
       "    }\n",
       "</style>\n",
       "<table border=\"1\" class=\"dataframe\">\n",
       "  <thead>\n",
       "    <tr style=\"text-align: right;\">\n",
       "      <th></th>\n",
       "      <th>date</th>\n",
       "      <th>open</th>\n",
       "      <th>high</th>\n",
       "      <th>low</th>\n",
       "      <th>close</th>\n",
       "      <th>adjClose</th>\n",
       "      <th>volume</th>\n",
       "      <th>unadjustedVolume</th>\n",
       "      <th>change</th>\n",
       "      <th>changePercent</th>\n",
       "      <th>vwap</th>\n",
       "      <th>label</th>\n",
       "      <th>changeOverTime</th>\n",
       "      <th>symbol</th>\n",
       "    </tr>\n",
       "  </thead>\n",
       "  <tbody>\n",
       "    <tr>\n",
       "      <th>0</th>\n",
       "      <td>2021-02-26</td>\n",
       "      <td>25.150000</td>\n",
       "      <td>26.820000</td>\n",
       "      <td>24.290001</td>\n",
       "      <td>26.040001</td>\n",
       "      <td>26.040001</td>\n",
       "      <td>621381.0</td>\n",
       "      <td>621381.0</td>\n",
       "      <td>0.89</td>\n",
       "      <td>3.539</td>\n",
       "      <td>25.71667</td>\n",
       "      <td>February 26, 21</td>\n",
       "      <td>0.03539</td>\n",
       "      <td>TGH</td>\n",
       "    </tr>\n",
       "    <tr>\n",
       "      <th>1</th>\n",
       "      <td>2021-02-25</td>\n",
       "      <td>27.059999</td>\n",
       "      <td>27.530001</td>\n",
       "      <td>25.180000</td>\n",
       "      <td>25.260000</td>\n",
       "      <td>25.260000</td>\n",
       "      <td>633600.0</td>\n",
       "      <td>633600.0</td>\n",
       "      <td>-1.80</td>\n",
       "      <td>-6.652</td>\n",
       "      <td>25.99000</td>\n",
       "      <td>February 25, 21</td>\n",
       "      <td>-0.06652</td>\n",
       "      <td>TGH</td>\n",
       "    </tr>\n",
       "    <tr>\n",
       "      <th>2</th>\n",
       "      <td>2021-02-24</td>\n",
       "      <td>28.000000</td>\n",
       "      <td>28.450001</td>\n",
       "      <td>26.770000</td>\n",
       "      <td>26.980000</td>\n",
       "      <td>26.980000</td>\n",
       "      <td>1092300.0</td>\n",
       "      <td>1092300.0</td>\n",
       "      <td>-1.02</td>\n",
       "      <td>-3.643</td>\n",
       "      <td>27.40000</td>\n",
       "      <td>February 24, 21</td>\n",
       "      <td>-0.03643</td>\n",
       "      <td>TGH</td>\n",
       "    </tr>\n",
       "    <tr>\n",
       "      <th>3</th>\n",
       "      <td>2021-02-23</td>\n",
       "      <td>27.400000</td>\n",
       "      <td>29.170000</td>\n",
       "      <td>25.500000</td>\n",
       "      <td>28.820000</td>\n",
       "      <td>28.820000</td>\n",
       "      <td>1088500.0</td>\n",
       "      <td>1088500.0</td>\n",
       "      <td>1.42</td>\n",
       "      <td>5.182</td>\n",
       "      <td>27.83000</td>\n",
       "      <td>February 23, 21</td>\n",
       "      <td>0.05182</td>\n",
       "      <td>TGH</td>\n",
       "    </tr>\n",
       "    <tr>\n",
       "      <th>4</th>\n",
       "      <td>2021-02-22</td>\n",
       "      <td>25.030001</td>\n",
       "      <td>27.980000</td>\n",
       "      <td>24.990000</td>\n",
       "      <td>27.510000</td>\n",
       "      <td>27.510000</td>\n",
       "      <td>1569000.0</td>\n",
       "      <td>1569000.0</td>\n",
       "      <td>2.48</td>\n",
       "      <td>9.908</td>\n",
       "      <td>26.82667</td>\n",
       "      <td>February 22, 21</td>\n",
       "      <td>0.09908</td>\n",
       "      <td>TGH</td>\n",
       "    </tr>\n",
       "  </tbody>\n",
       "</table>\n",
       "</div>"
      ],
      "text/plain": [
       "         date       open       high        low      close   adjClose  \\\n",
       "0  2021-02-26  25.150000  26.820000  24.290001  26.040001  26.040001   \n",
       "1  2021-02-25  27.059999  27.530001  25.180000  25.260000  25.260000   \n",
       "2  2021-02-24  28.000000  28.450001  26.770000  26.980000  26.980000   \n",
       "3  2021-02-23  27.400000  29.170000  25.500000  28.820000  28.820000   \n",
       "4  2021-02-22  25.030001  27.980000  24.990000  27.510000  27.510000   \n",
       "\n",
       "      volume  unadjustedVolume  change  changePercent      vwap  \\\n",
       "0   621381.0          621381.0    0.89          3.539  25.71667   \n",
       "1   633600.0          633600.0   -1.80         -6.652  25.99000   \n",
       "2  1092300.0         1092300.0   -1.02         -3.643  27.40000   \n",
       "3  1088500.0         1088500.0    1.42          5.182  27.83000   \n",
       "4  1569000.0         1569000.0    2.48          9.908  26.82667   \n",
       "\n",
       "             label  changeOverTime symbol  \n",
       "0  February 26, 21         0.03539    TGH  \n",
       "1  February 25, 21        -0.06652    TGH  \n",
       "2  February 24, 21        -0.03643    TGH  \n",
       "3  February 23, 21         0.05182    TGH  \n",
       "4  February 22, 21         0.09908    TGH  "
      ]
     },
     "execution_count": 32,
     "metadata": {},
     "output_type": "execute_result"
    }
   ],
   "source": [
    "api_df = clean_string(api_df)\n",
    "api_df.head(5)"
   ]
  },
  {
   "cell_type": "markdown",
   "metadata": {},
   "source": [
    "### 3. Subsetting or Filtering dataset"
   ]
  },
  {
   "cell_type": "markdown",
   "metadata": {},
   "source": [
    "Removing repeated columns"
   ]
  },
  {
   "cell_type": "code",
   "execution_count": 34,
   "metadata": {},
   "outputs": [
    {
     "data": {
      "text/plain": [
       "(18853, 10)"
      ]
     },
     "execution_count": 34,
     "metadata": {},
     "output_type": "execute_result"
    }
   ],
   "source": [
    "api_df.drop(['adjClose', 'unadjustedVolume', 'changeOverTime', 'label'], axis=1, inplace=True)\n",
    "api_df.shape"
   ]
  },
  {
   "cell_type": "markdown",
   "metadata": {},
   "source": [
    "### 4. Transforming datatype to correct format"
   ]
  },
  {
   "cell_type": "code",
   "execution_count": 35,
   "metadata": {},
   "outputs": [],
   "source": [
    "# checking data type\n",
    "def Datatype(df):\n",
    "    # shape and data types of the data\n",
    "    print(\"There are {} rows and {} columns\".format(df.shape[0], df.shape[1]))\n",
    "    print(df.dtypes)\n",
    "\n",
    "    # select numeric columns\n",
    "    df_numeric = df.select_dtypes(include=[np.number])\n",
    "    numeric_cols = df_numeric.columns.values\n",
    "    print(numeric_cols)\n",
    "\n",
    "    # select non numeric columns\n",
    "    df_non_numeric = df.select_dtypes(exclude=[np.number])\n",
    "    non_numeric_cols = df_non_numeric.columns.values\n",
    "    print(non_numeric_cols)"
   ]
  },
  {
   "cell_type": "code",
   "execution_count": 36,
   "metadata": {},
   "outputs": [
    {
     "name": "stdout",
     "output_type": "stream",
     "text": [
      "There are 18853 rows and 10 columns\n",
      "date              object\n",
      "open             float64\n",
      "high             float64\n",
      "low              float64\n",
      "close            float64\n",
      "volume           float64\n",
      "change           float64\n",
      "changePercent    float64\n",
      "vwap             float64\n",
      "symbol            object\n",
      "dtype: object\n",
      "['open' 'high' 'low' 'close' 'volume' 'change' 'changePercent' 'vwap']\n",
      "['date' 'symbol']\n"
     ]
    }
   ],
   "source": [
    "Datatype(api_df)"
   ]
  },
  {
   "cell_type": "code",
   "execution_count": 39,
   "metadata": {},
   "outputs": [
    {
     "name": "stdout",
     "output_type": "stream",
     "text": [
      "There are 18853 rows and 10 columns\n",
      "date             datetime64[ns]\n",
      "open                    float64\n",
      "high                    float64\n",
      "low                     float64\n",
      "close                   float64\n",
      "volume                  float64\n",
      "change                  float64\n",
      "changePercent           float64\n",
      "vwap                    float64\n",
      "symbol                   object\n",
      "dtype: object\n",
      "['open' 'high' 'low' 'close' 'volume' 'change' 'changePercent' 'vwap']\n",
      "['date' 'symbol']\n"
     ]
    }
   ],
   "source": [
    "api_df['date'] = pd.to_datetime(api_df['date'])\n",
    "Datatype(api_df)"
   ]
  },
  {
   "cell_type": "markdown",
   "metadata": {},
   "source": [
    "### 5. Renaming data headers"
   ]
  },
  {
   "cell_type": "code",
   "execution_count": 40,
   "metadata": {},
   "outputs": [
    {
     "data": {
      "text/html": [
       "<div>\n",
       "<style scoped>\n",
       "    .dataframe tbody tr th:only-of-type {\n",
       "        vertical-align: middle;\n",
       "    }\n",
       "\n",
       "    .dataframe tbody tr th {\n",
       "        vertical-align: top;\n",
       "    }\n",
       "\n",
       "    .dataframe thead th {\n",
       "        text-align: right;\n",
       "    }\n",
       "</style>\n",
       "<table border=\"1\" class=\"dataframe\">\n",
       "  <thead>\n",
       "    <tr style=\"text-align: right;\">\n",
       "      <th></th>\n",
       "      <th>date</th>\n",
       "      <th>open</th>\n",
       "      <th>high</th>\n",
       "      <th>low</th>\n",
       "      <th>close</th>\n",
       "      <th>volume</th>\n",
       "      <th>change</th>\n",
       "      <th>change_percent</th>\n",
       "      <th>vwap</th>\n",
       "      <th>ticker</th>\n",
       "    </tr>\n",
       "  </thead>\n",
       "  <tbody>\n",
       "    <tr>\n",
       "      <th>0</th>\n",
       "      <td>2021-02-26</td>\n",
       "      <td>25.150000</td>\n",
       "      <td>26.820000</td>\n",
       "      <td>24.290001</td>\n",
       "      <td>26.040001</td>\n",
       "      <td>621381.0</td>\n",
       "      <td>0.89</td>\n",
       "      <td>3.539</td>\n",
       "      <td>25.71667</td>\n",
       "      <td>TGH</td>\n",
       "    </tr>\n",
       "    <tr>\n",
       "      <th>1</th>\n",
       "      <td>2021-02-25</td>\n",
       "      <td>27.059999</td>\n",
       "      <td>27.530001</td>\n",
       "      <td>25.180000</td>\n",
       "      <td>25.260000</td>\n",
       "      <td>633600.0</td>\n",
       "      <td>-1.80</td>\n",
       "      <td>-6.652</td>\n",
       "      <td>25.99000</td>\n",
       "      <td>TGH</td>\n",
       "    </tr>\n",
       "    <tr>\n",
       "      <th>2</th>\n",
       "      <td>2021-02-24</td>\n",
       "      <td>28.000000</td>\n",
       "      <td>28.450001</td>\n",
       "      <td>26.770000</td>\n",
       "      <td>26.980000</td>\n",
       "      <td>1092300.0</td>\n",
       "      <td>-1.02</td>\n",
       "      <td>-3.643</td>\n",
       "      <td>27.40000</td>\n",
       "      <td>TGH</td>\n",
       "    </tr>\n",
       "    <tr>\n",
       "      <th>3</th>\n",
       "      <td>2021-02-23</td>\n",
       "      <td>27.400000</td>\n",
       "      <td>29.170000</td>\n",
       "      <td>25.500000</td>\n",
       "      <td>28.820000</td>\n",
       "      <td>1088500.0</td>\n",
       "      <td>1.42</td>\n",
       "      <td>5.182</td>\n",
       "      <td>27.83000</td>\n",
       "      <td>TGH</td>\n",
       "    </tr>\n",
       "    <tr>\n",
       "      <th>4</th>\n",
       "      <td>2021-02-22</td>\n",
       "      <td>25.030001</td>\n",
       "      <td>27.980000</td>\n",
       "      <td>24.990000</td>\n",
       "      <td>27.510000</td>\n",
       "      <td>1569000.0</td>\n",
       "      <td>2.48</td>\n",
       "      <td>9.908</td>\n",
       "      <td>26.82667</td>\n",
       "      <td>TGH</td>\n",
       "    </tr>\n",
       "  </tbody>\n",
       "</table>\n",
       "</div>"
      ],
      "text/plain": [
       "        date       open       high        low      close     volume  change  \\\n",
       "0 2021-02-26  25.150000  26.820000  24.290001  26.040001   621381.0    0.89   \n",
       "1 2021-02-25  27.059999  27.530001  25.180000  25.260000   633600.0   -1.80   \n",
       "2 2021-02-24  28.000000  28.450001  26.770000  26.980000  1092300.0   -1.02   \n",
       "3 2021-02-23  27.400000  29.170000  25.500000  28.820000  1088500.0    1.42   \n",
       "4 2021-02-22  25.030001  27.980000  24.990000  27.510000  1569000.0    2.48   \n",
       "\n",
       "   change_percent      vwap ticker  \n",
       "0           3.539  25.71667    TGH  \n",
       "1          -6.652  25.99000    TGH  \n",
       "2          -3.643  27.40000    TGH  \n",
       "3           5.182  27.83000    TGH  \n",
       "4           9.908  26.82667    TGH  "
      ]
     },
     "execution_count": 40,
     "metadata": {},
     "output_type": "execute_result"
    }
   ],
   "source": [
    "# renaming headers\n",
    "api_df = api_df.rename(columns={\"changePercent\": \"change_percent\", \"symbol\": \"ticker\"})\n",
    "api_df.head()"
   ]
  },
  {
   "cell_type": "code",
   "execution_count": 41,
   "metadata": {},
   "outputs": [],
   "source": [
    "df = api_df.copy()"
   ]
  },
  {
   "cell_type": "markdown",
   "metadata": {},
   "source": [
    "### 6. Check for duplicates"
   ]
  },
  {
   "cell_type": "code",
   "execution_count": 44,
   "metadata": {},
   "outputs": [
    {
     "name": "stdout",
     "output_type": "stream",
     "text": [
      "Duplicate value for Ticker and Date: False\n"
     ]
    }
   ],
   "source": [
    "print(\"Duplicate value for Ticker and Date: {}\".format(any(df.duplicated(subset=['date', 'ticker']))))\n"
   ]
  },
  {
   "cell_type": "markdown",
   "metadata": {},
   "source": [
    "### 7. Handling Missing Values"
   ]
  },
  {
   "cell_type": "markdown",
   "metadata": {},
   "source": [
    "I created a function to check the percentage of missing values in each feature. deleing null values is always risky, it needs careful analysis. I attempt to check which feature has highest missing values an ddepending on it's important I will either delete or keep the features"
   ]
  },
  {
   "cell_type": "code",
   "execution_count": 45,
   "metadata": {},
   "outputs": [],
   "source": [
    "# check for missing value\n",
    "def percentMissing(df):\n",
    "    \n",
    "    df_numeric = df.select_dtypes(include=[np.number])\n",
    "    numeric_cols = df_numeric.columns.values\n",
    "    print(numeric_cols)\n",
    "    \n",
    "    # % of missing data\n",
    "    for col in df.columns:\n",
    "        # create missing indicator for features with missing data\n",
    "        missing = df[col].isnull()\n",
    "        pct_missing = np.mean(missing)*100\n",
    "        print('{} - {}%'.format(col, round(pct_missing)))\n",
    "        num_missing = np.sum(missing)\n",
    "        \n",
    "    return df"
   ]
  },
  {
   "cell_type": "code",
   "execution_count": 46,
   "metadata": {},
   "outputs": [
    {
     "name": "stdout",
     "output_type": "stream",
     "text": [
      "['open' 'high' 'low' 'close' 'volume' 'change' 'change_percent' 'vwap']\n",
      "date - 0%\n",
      "open - 0%\n",
      "high - 0%\n",
      "low - 0%\n",
      "close - 0%\n",
      "volume - 0%\n",
      "change - 0%\n",
      "change_percent - 0%\n",
      "vwap - 0%\n",
      "ticker - 0%\n"
     ]
    }
   ],
   "source": [
    "df_missing = percentMissing(df)"
   ]
  },
  {
   "cell_type": "markdown",
   "metadata": {},
   "source": [
    "No missing value so far"
   ]
  },
  {
   "cell_type": "code",
   "execution_count": 47,
   "metadata": {},
   "outputs": [],
   "source": [
    "df.to_csv('clean_api_data.csv', encoding='utf-8', index=False)"
   ]
  },
  {
   "cell_type": "markdown",
   "metadata": {},
   "source": [
    "### Summary of the Milestone 4"
   ]
  },
  {
   "cell_type": "markdown",
   "metadata": {},
   "source": [
    "I have performed the following steps:\n",
    "1. Reading the data from API and Converting it into dataframe\n",
    "2. Striped String data of whitespace and\n",
    "3. Subsetting or Filtering dataset\n",
    "4. Transforming datatype to correct format\n",
    "5. Renaming data headers\n",
    "6. Checked Duplicates\n",
    "7. Identifying Missing value.\n",
    "\n",
    "There was not much formatting on this api data, as most data was in correct format. All the missing symbols were already filtered out, some reason API was not fetching any data and I was getting error for them. "
   ]
  },
  {
   "cell_type": "code",
   "execution_count": null,
   "metadata": {},
   "outputs": [],
   "source": []
  }
 ],
 "metadata": {
  "kernelspec": {
   "display_name": "Python 3",
   "language": "python",
   "name": "python3"
  },
  "language_info": {
   "codemirror_mode": {
    "name": "ipython",
    "version": 3
   },
   "file_extension": ".py",
   "mimetype": "text/x-python",
   "name": "python",
   "nbconvert_exporter": "python",
   "pygments_lexer": "ipython3",
   "version": "3.7.9"
  }
 },
 "nbformat": 4,
 "nbformat_minor": 4
}
