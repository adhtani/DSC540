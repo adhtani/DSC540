{
 "cells": [
  {
   "cell_type": "markdown",
   "metadata": {},
   "source": [
    "## Project: Milestone 3\n",
    "\n",
    "### DSC 540\n",
    "\n",
    "#### Taniya Adhikari 2/7/2021"
   ]
  },
  {
   "cell_type": "code",
   "execution_count": 933,
   "metadata": {},
   "outputs": [],
   "source": [
    "from bs4 import BeautifulSoup as BS\n",
    "import numpy as np\n",
    "import pandas as pd\n",
    "import matplotlib.pyplot as plt\n",
    "import seaborn as sns\n",
    "\n",
    "import warnings; warnings.simplefilter('ignore')\n",
    "%matplotlib inline"
   ]
  },
  {
   "cell_type": "markdown",
   "metadata": {},
   "source": [
    "### 1. Reading the data from the html file and webscraped the data table"
   ]
  },
  {
   "cell_type": "markdown",
   "metadata": {},
   "source": [
    "I had to save the data into .html so I can preserve the filters in the data from stock screener of TradingView website because it did not let me use get method to retrieve the data."
   ]
  },
  {
   "cell_type": "code",
   "execution_count": 934,
   "metadata": {},
   "outputs": [],
   "source": [
    "# read the data\n",
    "fd = open(\"Stock Screener.html\", \"r\", encoding='utf8')\n",
    "soup = BS(fd)\n",
    "fd.close()"
   ]
  },
  {
   "cell_type": "code",
   "execution_count": 935,
   "metadata": {},
   "outputs": [],
   "source": [
    "all_tables = soup.find_all(\"table\")"
   ]
  },
  {
   "cell_type": "code",
   "execution_count": 936,
   "metadata": {},
   "outputs": [
    {
     "name": "stdout",
     "output_type": "stream",
     "text": [
      "Total number of tables are 2 \n"
     ]
    }
   ],
   "source": [
    "print(\"Total number of tables are {} \".format(len(all_tables)))"
   ]
  },
  {
   "cell_type": "code",
   "execution_count": 937,
   "metadata": {},
   "outputs": [],
   "source": [
    "table = all_tables[1]"
   ]
  },
  {
   "cell_type": "code",
   "execution_count": 938,
   "metadata": {},
   "outputs": [],
   "source": [
    "# find all the headers\n",
    "hd = table.thead.findAll('tr', recursive=False)[0].findAll('th', recursive=False)\n",
    "\n",
    "# creates a list of table headers\n",
    "headers = [] \n",
    "for td in hd:\n",
    "\n",
    "    if td.findAll('div',{\"class\":\"js-head-title tv-screener-table__head-left--title-two-lines\"}):\n",
    "        header_tag = td.findAll('div',{\"class\":\"js-head-title tv-screener-table__head-left--title-two-lines\"})\n",
    "        for div in header_tag:\n",
    "            header = div.getText().strip()\n",
    "            headers.append(header)\n",
    "    \n",
    "    elif td.findAll('div',{\"class\":\"js-head-title tv-screener-table__head-left--title-three-lines\"}):\n",
    "        header_tag = td.findAll('div',{\"class\":\"js-head-title tv-screener-table__head-left--title-three-lines\"})\n",
    "        for div in header_tag:\n",
    "            header = div.getText().strip()\n",
    "            headers.append(header)\n",
    "    else:\n",
    "        None\n"
   ]
  },
  {
   "cell_type": "code",
   "execution_count": 939,
   "metadata": {},
   "outputs": [
    {
     "data": {
      "text/plain": [
       "['Mkt Cap',\n",
       " 'EPS Diluted (FY)',\n",
       " '1-Y Beta',\n",
       " 'Current Ratio',\n",
       " 'DEBT/EQUITY',\n",
       " 'Div Yield',\n",
       " 'Div per Share (FY)',\n",
       " 'EBITDA',\n",
       " 'EPS Forecast',\n",
       " 'Gross Profit (FY)',\n",
       " 'Income',\n",
       " 'P/B (FY)',\n",
       " 'P/S',\n",
       " 'Price/Free Cash Flow',\n",
       " 'Quick Ratio',\n",
       " 'ROA',\n",
       " 'ROE',\n",
       " 'ROI %',\n",
       " 'Assets',\n",
       " 'Debt',\n",
       " 'Revenue',\n",
       " 'YTD Perf',\n",
       " 'Yearly Perf',\n",
       " 'P/E',\n",
       " 'Price/Rev',\n",
       " 'Current Assets']"
      ]
     },
     "execution_count": 939,
     "metadata": {},
     "output_type": "execute_result"
    }
   ],
   "source": [
    "del headers[0]\n",
    "headers"
   ]
  },
  {
   "cell_type": "code",
   "execution_count": 940,
   "metadata": {},
   "outputs": [],
   "source": [
    "# find all data for the columns\n",
    "dt = table.tbody.findAll('tr', recursive=False)\n",
    "\n",
    "data = [] \n",
    "for td in dt: \n",
    "    data.append(td)"
   ]
  },
  {
   "cell_type": "code",
   "execution_count": 941,
   "metadata": {},
   "outputs": [
    {
     "data": {
      "text/plain": [
       "2225"
      ]
     },
     "execution_count": 941,
     "metadata": {},
     "output_type": "execute_result"
    }
   ],
   "source": [
    "df1_data = [[td.getText().strip() for td in tr.findAll('td')] for tr in data]\n",
    "\n",
    "for i in range(len(df1_data)):\n",
    "    del df1_data[i][0]\n",
    "len(df1_data)"
   ]
  },
  {
   "cell_type": "code",
   "execution_count": 942,
   "metadata": {},
   "outputs": [
    {
     "data": {
      "text/plain": [
       "2225"
      ]
     },
     "execution_count": 942,
     "metadata": {},
     "output_type": "execute_result"
    }
   ],
   "source": [
    "ticker_symbol = []\n",
    "i = 0\n",
    "for tr in data:\n",
    "    x = tr.findAll('td')[0].findAll('a',{'class':'tv-screener__symbol apply-common-tooltip'})\n",
    "    s = [a.getText().strip() for a in x]\n",
    "    ticker_symbol.append(s)\n",
    "len(ticker_symbol)"
   ]
  },
  {
   "cell_type": "code",
   "execution_count": 943,
   "metadata": {},
   "outputs": [],
   "source": [
    "values_df = pd.DataFrame(df1_data, columns=headers)"
   ]
  },
  {
   "cell_type": "code",
   "execution_count": 944,
   "metadata": {},
   "outputs": [
    {
     "data": {
      "text/html": [
       "<div>\n",
       "<style scoped>\n",
       "    .dataframe tbody tr th:only-of-type {\n",
       "        vertical-align: middle;\n",
       "    }\n",
       "\n",
       "    .dataframe tbody tr th {\n",
       "        vertical-align: top;\n",
       "    }\n",
       "\n",
       "    .dataframe thead th {\n",
       "        text-align: right;\n",
       "    }\n",
       "</style>\n",
       "<table border=\"1\" class=\"dataframe\">\n",
       "  <thead>\n",
       "    <tr style=\"text-align: right;\">\n",
       "      <th></th>\n",
       "      <th>Mkt Cap</th>\n",
       "      <th>EPS Diluted (FY)</th>\n",
       "      <th>1-Y Beta</th>\n",
       "      <th>Current Ratio</th>\n",
       "      <th>DEBT/EQUITY</th>\n",
       "      <th>Div Yield</th>\n",
       "      <th>Div per Share (FY)</th>\n",
       "      <th>EBITDA</th>\n",
       "      <th>EPS Forecast</th>\n",
       "      <th>Gross Profit (FY)</th>\n",
       "      <th>...</th>\n",
       "      <th>ROE</th>\n",
       "      <th>ROI %</th>\n",
       "      <th>Assets</th>\n",
       "      <th>Debt</th>\n",
       "      <th>Revenue</th>\n",
       "      <th>YTD Perf</th>\n",
       "      <th>Yearly Perf</th>\n",
       "      <th>P/E</th>\n",
       "      <th>Price/Rev</th>\n",
       "      <th>Current Assets</th>\n",
       "    </tr>\n",
       "  </thead>\n",
       "  <tbody>\n",
       "    <tr>\n",
       "      <th>0</th>\n",
       "      <td>1.003B</td>\n",
       "      <td>0.38</td>\n",
       "      <td>1.13</td>\n",
       "      <td>2.50</td>\n",
       "      <td>0.21</td>\n",
       "      <td>2.33%</td>\n",
       "      <td>0.64</td>\n",
       "      <td>92.546M</td>\n",
       "      <td>0.20</td>\n",
       "      <td>165.949M</td>\n",
       "      <td>...</td>\n",
       "      <td>1.40</td>\n",
       "      <td>1.16%</td>\n",
       "      <td>1.744B</td>\n",
       "      <td>212.332M</td>\n",
       "      <td>2.053B</td>\n",
       "      <td>1.85%</td>\n",
       "      <td>3.30%</td>\n",
       "      <td>72.19</td>\n",
       "      <td>0.49</td>\n",
       "      <td>1.202B</td>\n",
       "    </tr>\n",
       "    <tr>\n",
       "      <th>1</th>\n",
       "      <td>1.004B</td>\n",
       "      <td>0.99</td>\n",
       "      <td>1.01</td>\n",
       "      <td>—</td>\n",
       "      <td>3.04</td>\n",
       "      <td>0.00%</td>\n",
       "      <td>0.00</td>\n",
       "      <td>422.741M</td>\n",
       "      <td>0.50</td>\n",
       "      <td>285.876M</td>\n",
       "      <td>...</td>\n",
       "      <td>4.67</td>\n",
       "      <td>1.22%</td>\n",
       "      <td>5.413B</td>\n",
       "      <td>3.721B</td>\n",
       "      <td>688.03M</td>\n",
       "      <td>2.76%</td>\n",
       "      <td>103.83%</td>\n",
       "      <td>17.83</td>\n",
       "      <td>1.55</td>\n",
       "      <td>—</td>\n",
       "    </tr>\n",
       "    <tr>\n",
       "      <th>2</th>\n",
       "      <td>1.004B</td>\n",
       "      <td>2.26</td>\n",
       "      <td>1.52</td>\n",
       "      <td>1.43</td>\n",
       "      <td>0.23</td>\n",
       "      <td>0.00%</td>\n",
       "      <td>0.00</td>\n",
       "      <td>125.402M</td>\n",
       "      <td>0.79</td>\n",
       "      <td>210.309M</td>\n",
       "      <td>...</td>\n",
       "      <td>14.06</td>\n",
       "      <td>10.36%</td>\n",
       "      <td>1.019B</td>\n",
       "      <td>93.499M</td>\n",
       "      <td>2.071B</td>\n",
       "      <td>−0.10%</td>\n",
       "      <td>106.61%</td>\n",
       "      <td>18.90</td>\n",
       "      <td>0.46</td>\n",
       "      <td>658.762M</td>\n",
       "    </tr>\n",
       "    <tr>\n",
       "      <th>3</th>\n",
       "      <td>1.005B</td>\n",
       "      <td>−3.90</td>\n",
       "      <td>1.63</td>\n",
       "      <td>4.54</td>\n",
       "      <td>0.35</td>\n",
       "      <td>0.00%</td>\n",
       "      <td>0.00</td>\n",
       "      <td>-49.635M</td>\n",
       "      <td>−0.31</td>\n",
       "      <td>172K</td>\n",
       "      <td>...</td>\n",
       "      <td>−90.03</td>\n",
       "      <td>−65.41%</td>\n",
       "      <td>71.902M</td>\n",
       "      <td>14.256M</td>\n",
       "      <td>4.227M</td>\n",
       "      <td>221.02%</td>\n",
       "      <td>1522.66%</td>\n",
       "      <td>—</td>\n",
       "      <td>153.88</td>\n",
       "      <td>57.997M</td>\n",
       "    </tr>\n",
       "    <tr>\n",
       "      <th>4</th>\n",
       "      <td>1.006B</td>\n",
       "      <td>0.60</td>\n",
       "      <td>1.08</td>\n",
       "      <td>0.21</td>\n",
       "      <td>0.90</td>\n",
       "      <td>3.57%</td>\n",
       "      <td>0.46</td>\n",
       "      <td>—</td>\n",
       "      <td>0.27</td>\n",
       "      <td>—</td>\n",
       "      <td>...</td>\n",
       "      <td>5.05</td>\n",
       "      <td>3.18%</td>\n",
       "      <td>8.942B</td>\n",
       "      <td>844.39M</td>\n",
       "      <td>351.461M</td>\n",
       "      <td>6.89%</td>\n",
       "      <td>−17.45%</td>\n",
       "      <td>21.44</td>\n",
       "      <td>2.94</td>\n",
       "      <td>441.958M</td>\n",
       "    </tr>\n",
       "    <tr>\n",
       "      <th>...</th>\n",
       "      <td>...</td>\n",
       "      <td>...</td>\n",
       "      <td>...</td>\n",
       "      <td>...</td>\n",
       "      <td>...</td>\n",
       "      <td>...</td>\n",
       "      <td>...</td>\n",
       "      <td>...</td>\n",
       "      <td>...</td>\n",
       "      <td>...</td>\n",
       "      <td>...</td>\n",
       "      <td>...</td>\n",
       "      <td>...</td>\n",
       "      <td>...</td>\n",
       "      <td>...</td>\n",
       "      <td>...</td>\n",
       "      <td>...</td>\n",
       "      <td>...</td>\n",
       "      <td>...</td>\n",
       "      <td>...</td>\n",
       "      <td>...</td>\n",
       "    </tr>\n",
       "    <tr>\n",
       "      <th>2220</th>\n",
       "      <td>1408.156B</td>\n",
       "      <td>54.92</td>\n",
       "      <td>0.86</td>\n",
       "      <td>3.07</td>\n",
       "      <td>0.13</td>\n",
       "      <td>0.00%</td>\n",
       "      <td>—</td>\n",
       "      <td>54.744B</td>\n",
       "      <td>15.39</td>\n",
       "      <td>97.618B</td>\n",
       "      <td>...</td>\n",
       "      <td>19.00</td>\n",
       "      <td>17.36%</td>\n",
       "      <td>319.616B</td>\n",
       "      <td>27.872B</td>\n",
       "      <td>182.35B</td>\n",
       "      <td>19.18%</td>\n",
       "      <td>41.22%</td>\n",
       "      <td>36.01</td>\n",
       "      <td>7.69</td>\n",
       "      <td>174.296B</td>\n",
       "    </tr>\n",
       "    <tr>\n",
       "      <th>2221</th>\n",
       "      <td>1414.337B</td>\n",
       "      <td>54.92</td>\n",
       "      <td>0.85</td>\n",
       "      <td>3.07</td>\n",
       "      <td>0.13</td>\n",
       "      <td>0.00%</td>\n",
       "      <td>—</td>\n",
       "      <td>54.744B</td>\n",
       "      <td>15.46</td>\n",
       "      <td>97.618B</td>\n",
       "      <td>...</td>\n",
       "      <td>19.00</td>\n",
       "      <td>17.36%</td>\n",
       "      <td>319.616B</td>\n",
       "      <td>27.872B</td>\n",
       "      <td>182.35B</td>\n",
       "      <td>19.76%</td>\n",
       "      <td>41.83%</td>\n",
       "      <td>36.17</td>\n",
       "      <td>7.72</td>\n",
       "      <td>174.296B</td>\n",
       "    </tr>\n",
       "    <tr>\n",
       "      <th>2222</th>\n",
       "      <td>1688.025B</td>\n",
       "      <td>41.83</td>\n",
       "      <td>0.53</td>\n",
       "      <td>1.05</td>\n",
       "      <td>1.08</td>\n",
       "      <td>0.00%</td>\n",
       "      <td>—</td>\n",
       "      <td>48.076B</td>\n",
       "      <td>9.64</td>\n",
       "      <td>152.757B</td>\n",
       "      <td>...</td>\n",
       "      <td>27.44</td>\n",
       "      <td>14.08%</td>\n",
       "      <td>321.195B</td>\n",
       "      <td>100.504B</td>\n",
       "      <td>386.064B</td>\n",
       "      <td>2.92%</td>\n",
       "      <td>61.22%</td>\n",
       "      <td>79.78</td>\n",
       "      <td>4.43</td>\n",
       "      <td>132.733B</td>\n",
       "    </tr>\n",
       "    <tr>\n",
       "      <th>2223</th>\n",
       "      <td>1826.726B</td>\n",
       "      <td>5.76</td>\n",
       "      <td>0.81</td>\n",
       "      <td>2.58</td>\n",
       "      <td>0.64</td>\n",
       "      <td>0.92%</td>\n",
       "      <td>2.04</td>\n",
       "      <td>72.183B</td>\n",
       "      <td>1.77</td>\n",
       "      <td>96.937B</td>\n",
       "      <td>...</td>\n",
       "      <td>42.70</td>\n",
       "      <td>26.05%</td>\n",
       "      <td>304.137B</td>\n",
       "      <td>82.782B</td>\n",
       "      <td>143.015B</td>\n",
       "      <td>8.89%</td>\n",
       "      <td>31.71%</td>\n",
       "      <td>36.04</td>\n",
       "      <td>12.02</td>\n",
       "      <td>173.973B</td>\n",
       "    </tr>\n",
       "    <tr>\n",
       "      <th>2224</th>\n",
       "      <td>2295.941B</td>\n",
       "      <td>3.28</td>\n",
       "      <td>0.98</td>\n",
       "      <td>1.16</td>\n",
       "      <td>1.69</td>\n",
       "      <td>0.60%</td>\n",
       "      <td>0.80</td>\n",
       "      <td>84.827B</td>\n",
       "      <td>0.98</td>\n",
       "      <td>104.007B</td>\n",
       "      <td>...</td>\n",
       "      <td>82.09</td>\n",
       "      <td>35.99%</td>\n",
       "      <td>354.054B</td>\n",
       "      <td>112.043B</td>\n",
       "      <td>274.15B</td>\n",
       "      <td>3.07%</td>\n",
       "      <td>70.93%</td>\n",
       "      <td>37.14</td>\n",
       "      <td>8.00</td>\n",
       "      <td>154.106B</td>\n",
       "    </tr>\n",
       "  </tbody>\n",
       "</table>\n",
       "<p>2225 rows × 26 columns</p>\n",
       "</div>"
      ],
      "text/plain": [
       "        Mkt Cap EPS Diluted (FY) 1-Y Beta Current Ratio DEBT/EQUITY Div Yield  \\\n",
       "0        1.003B             0.38     1.13          2.50        0.21     2.33%   \n",
       "1        1.004B             0.99     1.01             —        3.04     0.00%   \n",
       "2        1.004B             2.26     1.52          1.43        0.23     0.00%   \n",
       "3        1.005B            −3.90     1.63          4.54        0.35     0.00%   \n",
       "4        1.006B             0.60     1.08          0.21        0.90     3.57%   \n",
       "...         ...              ...      ...           ...         ...       ...   \n",
       "2220  1408.156B            54.92     0.86          3.07        0.13     0.00%   \n",
       "2221  1414.337B            54.92     0.85          3.07        0.13     0.00%   \n",
       "2222  1688.025B            41.83     0.53          1.05        1.08     0.00%   \n",
       "2223  1826.726B             5.76     0.81          2.58        0.64     0.92%   \n",
       "2224  2295.941B             3.28     0.98          1.16        1.69     0.60%   \n",
       "\n",
       "     Div per Share (FY)    EBITDA EPS Forecast Gross Profit (FY)  ...     ROE  \\\n",
       "0                  0.64   92.546M         0.20          165.949M  ...    1.40   \n",
       "1                  0.00  422.741M         0.50          285.876M  ...    4.67   \n",
       "2                  0.00  125.402M         0.79          210.309M  ...   14.06   \n",
       "3                  0.00  -49.635M        −0.31              172K  ...  −90.03   \n",
       "4                  0.46         —         0.27                 —  ...    5.05   \n",
       "...                 ...       ...          ...               ...  ...     ...   \n",
       "2220                  —   54.744B        15.39           97.618B  ...   19.00   \n",
       "2221                  —   54.744B        15.46           97.618B  ...   19.00   \n",
       "2222                  —   48.076B         9.64          152.757B  ...   27.44   \n",
       "2223               2.04   72.183B         1.77           96.937B  ...   42.70   \n",
       "2224               0.80   84.827B         0.98          104.007B  ...   82.09   \n",
       "\n",
       "        ROI %    Assets      Debt   Revenue YTD Perf Yearly Perf    P/E  \\\n",
       "0       1.16%    1.744B  212.332M    2.053B    1.85%       3.30%  72.19   \n",
       "1       1.22%    5.413B    3.721B   688.03M    2.76%     103.83%  17.83   \n",
       "2      10.36%    1.019B   93.499M    2.071B   −0.10%     106.61%  18.90   \n",
       "3     −65.41%   71.902M   14.256M    4.227M  221.02%    1522.66%      —   \n",
       "4       3.18%    8.942B   844.39M  351.461M    6.89%     −17.45%  21.44   \n",
       "...       ...       ...       ...       ...      ...         ...    ...   \n",
       "2220   17.36%  319.616B   27.872B   182.35B   19.18%      41.22%  36.01   \n",
       "2221   17.36%  319.616B   27.872B   182.35B   19.76%      41.83%  36.17   \n",
       "2222   14.08%  321.195B  100.504B  386.064B    2.92%      61.22%  79.78   \n",
       "2223   26.05%  304.137B   82.782B  143.015B    8.89%      31.71%  36.04   \n",
       "2224   35.99%  354.054B  112.043B   274.15B    3.07%      70.93%  37.14   \n",
       "\n",
       "     Price/Rev Current Assets  \n",
       "0         0.49         1.202B  \n",
       "1         1.55              —  \n",
       "2         0.46       658.762M  \n",
       "3       153.88        57.997M  \n",
       "4         2.94       441.958M  \n",
       "...        ...            ...  \n",
       "2220      7.69       174.296B  \n",
       "2221      7.72       174.296B  \n",
       "2222      4.43       132.733B  \n",
       "2223     12.02       173.973B  \n",
       "2224      8.00       154.106B  \n",
       "\n",
       "[2225 rows x 26 columns]"
      ]
     },
     "execution_count": 944,
     "metadata": {},
     "output_type": "execute_result"
    }
   ],
   "source": [
    "values_df"
   ]
  },
  {
   "cell_type": "code",
   "execution_count": 945,
   "metadata": {},
   "outputs": [
    {
     "data": {
      "text/html": [
       "<div>\n",
       "<style scoped>\n",
       "    .dataframe tbody tr th:only-of-type {\n",
       "        vertical-align: middle;\n",
       "    }\n",
       "\n",
       "    .dataframe tbody tr th {\n",
       "        vertical-align: top;\n",
       "    }\n",
       "\n",
       "    .dataframe thead th {\n",
       "        text-align: right;\n",
       "    }\n",
       "</style>\n",
       "<table border=\"1\" class=\"dataframe\">\n",
       "  <thead>\n",
       "    <tr style=\"text-align: right;\">\n",
       "      <th></th>\n",
       "      <th>Ticker</th>\n",
       "    </tr>\n",
       "  </thead>\n",
       "  <tbody>\n",
       "    <tr>\n",
       "      <th>0</th>\n",
       "      <td>BHE</td>\n",
       "    </tr>\n",
       "    <tr>\n",
       "      <th>1</th>\n",
       "      <td>TGH</td>\n",
       "    </tr>\n",
       "    <tr>\n",
       "      <th>2</th>\n",
       "      <td>MYRG</td>\n",
       "    </tr>\n",
       "    <tr>\n",
       "      <th>3</th>\n",
       "      <td>ACRS</td>\n",
       "    </tr>\n",
       "    <tr>\n",
       "      <th>4</th>\n",
       "      <td>BRKL</td>\n",
       "    </tr>\n",
       "    <tr>\n",
       "      <th>...</th>\n",
       "      <td>...</td>\n",
       "    </tr>\n",
       "    <tr>\n",
       "      <th>2220</th>\n",
       "      <td>GOOGL</td>\n",
       "    </tr>\n",
       "    <tr>\n",
       "      <th>2221</th>\n",
       "      <td>GOOG</td>\n",
       "    </tr>\n",
       "    <tr>\n",
       "      <th>2222</th>\n",
       "      <td>AMZN</td>\n",
       "    </tr>\n",
       "    <tr>\n",
       "      <th>2223</th>\n",
       "      <td>MSFT</td>\n",
       "    </tr>\n",
       "    <tr>\n",
       "      <th>2224</th>\n",
       "      <td>AAPL</td>\n",
       "    </tr>\n",
       "  </tbody>\n",
       "</table>\n",
       "<p>2225 rows × 1 columns</p>\n",
       "</div>"
      ],
      "text/plain": [
       "     Ticker\n",
       "0       BHE\n",
       "1       TGH\n",
       "2      MYRG\n",
       "3      ACRS\n",
       "4      BRKL\n",
       "...     ...\n",
       "2220  GOOGL\n",
       "2221   GOOG\n",
       "2222   AMZN\n",
       "2223   MSFT\n",
       "2224   AAPL\n",
       "\n",
       "[2225 rows x 1 columns]"
      ]
     },
     "execution_count": 945,
     "metadata": {},
     "output_type": "execute_result"
    }
   ],
   "source": [
    "ticker_df = pd.DataFrame(ticker_symbol)\n",
    "ticker_df = ticker_df.rename(columns={0: 'Ticker'})\n",
    "ticker_df"
   ]
  },
  {
   "cell_type": "markdown",
   "metadata": {},
   "source": [
    "### 2. Stripping string data of whitespace"
   ]
  },
  {
   "cell_type": "code",
   "execution_count": 946,
   "metadata": {},
   "outputs": [],
   "source": [
    "def no_whitespace(string):\n",
    "    return string.strip()\n",
    "\n",
    "# stripping white space from all column type as object\n",
    "def clean_string(df):\n",
    "    \n",
    "    for col in df.columns:\n",
    "        if df[col].dtype == np.object:\n",
    "            new = '{}_new'.format(col)\n",
    "            df[new] = df[col].apply(no_whitespace)\n",
    "            df[col] = df[new]\n",
    "            df = df.drop(columns=[new])\n",
    "    return df\n"
   ]
  },
  {
   "cell_type": "code",
   "execution_count": 947,
   "metadata": {},
   "outputs": [
    {
     "data": {
      "text/html": [
       "<div>\n",
       "<style scoped>\n",
       "    .dataframe tbody tr th:only-of-type {\n",
       "        vertical-align: middle;\n",
       "    }\n",
       "\n",
       "    .dataframe tbody tr th {\n",
       "        vertical-align: top;\n",
       "    }\n",
       "\n",
       "    .dataframe thead th {\n",
       "        text-align: right;\n",
       "    }\n",
       "</style>\n",
       "<table border=\"1\" class=\"dataframe\">\n",
       "  <thead>\n",
       "    <tr style=\"text-align: right;\">\n",
       "      <th></th>\n",
       "      <th>Ticker</th>\n",
       "    </tr>\n",
       "  </thead>\n",
       "  <tbody>\n",
       "    <tr>\n",
       "      <th>0</th>\n",
       "      <td>BHE</td>\n",
       "    </tr>\n",
       "    <tr>\n",
       "      <th>1</th>\n",
       "      <td>TGH</td>\n",
       "    </tr>\n",
       "  </tbody>\n",
       "</table>\n",
       "</div>"
      ],
      "text/plain": [
       "  Ticker\n",
       "0    BHE\n",
       "1    TGH"
      ]
     },
     "execution_count": 947,
     "metadata": {},
     "output_type": "execute_result"
    }
   ],
   "source": [
    "ticker_df = clean_string(ticker_df)\n",
    "ticker_df.head(2)"
   ]
  },
  {
   "cell_type": "markdown",
   "metadata": {},
   "source": [
    "### 3. Renaming data headers"
   ]
  },
  {
   "cell_type": "code",
   "execution_count": 948,
   "metadata": {},
   "outputs": [],
   "source": [
    "# checking data type\n",
    "def Datatype(df):\n",
    "    # shape and data types of the data\n",
    "    print(\"There are {} rows and {} columns\".format(df.shape[0], df.shape[1]))\n",
    "    print(df.dtypes)\n",
    "\n",
    "    # select numeric columns\n",
    "    df_numeric = df.select_dtypes(include=[np.number])\n",
    "    numeric_cols = df_numeric.columns.values\n",
    "    print(numeric_cols)\n",
    "\n",
    "    # select non numeric columns\n",
    "    df_non_numeric = df.select_dtypes(exclude=[np.number])\n",
    "    non_numeric_cols = df_non_numeric.columns.values\n",
    "    print(non_numeric_cols)"
   ]
  },
  {
   "cell_type": "code",
   "execution_count": 949,
   "metadata": {},
   "outputs": [
    {
     "name": "stdout",
     "output_type": "stream",
     "text": [
      "There are 2225 rows and 26 columns\n",
      "Mkt Cap                 object\n",
      "EPS Diluted (FY)        object\n",
      "1-Y Beta                object\n",
      "Current Ratio           object\n",
      "DEBT/EQUITY             object\n",
      "Div Yield               object\n",
      "Div per Share (FY)      object\n",
      "EBITDA                  object\n",
      "EPS Forecast            object\n",
      "Gross Profit (FY)       object\n",
      "Income                  object\n",
      "P/B (FY)                object\n",
      "P/S                     object\n",
      "Price/Free Cash Flow    object\n",
      "Quick Ratio             object\n",
      "ROA                     object\n",
      "ROE                     object\n",
      "ROI %                   object\n",
      "Assets                  object\n",
      "Debt                    object\n",
      "Revenue                 object\n",
      "YTD Perf                object\n",
      "Yearly Perf             object\n",
      "P/E                     object\n",
      "Price/Rev               object\n",
      "Current Assets          object\n",
      "dtype: object\n",
      "[]\n",
      "['Mkt Cap' 'EPS Diluted (FY)' '1-Y Beta' 'Current Ratio' 'DEBT/EQUITY'\n",
      " 'Div Yield' 'Div per Share (FY)' 'EBITDA' 'EPS Forecast'\n",
      " 'Gross Profit (FY)' 'Income' 'P/B (FY)' 'P/S' 'Price/Free Cash Flow'\n",
      " 'Quick Ratio' 'ROA' 'ROE' 'ROI %' 'Assets' 'Debt' 'Revenue' 'YTD Perf'\n",
      " 'Yearly Perf' 'P/E' 'Price/Rev' 'Current Assets']\n"
     ]
    }
   ],
   "source": [
    "Datatype(values_df)"
   ]
  },
  {
   "cell_type": "code",
   "execution_count": 950,
   "metadata": {},
   "outputs": [
    {
     "data": {
      "text/html": [
       "<div>\n",
       "<style scoped>\n",
       "    .dataframe tbody tr th:only-of-type {\n",
       "        vertical-align: middle;\n",
       "    }\n",
       "\n",
       "    .dataframe tbody tr th {\n",
       "        vertical-align: top;\n",
       "    }\n",
       "\n",
       "    .dataframe thead th {\n",
       "        text-align: right;\n",
       "    }\n",
       "</style>\n",
       "<table border=\"1\" class=\"dataframe\">\n",
       "  <thead>\n",
       "    <tr style=\"text-align: right;\">\n",
       "      <th></th>\n",
       "      <th>Mkt_Cap</th>\n",
       "      <th>EPS_Diluted_FY</th>\n",
       "      <th>Beta_1Yr</th>\n",
       "      <th>Current _Ratio</th>\n",
       "      <th>Debt_to_Equity</th>\n",
       "      <th>Div_Yield%</th>\n",
       "      <th>Div_per_Share</th>\n",
       "      <th>EBITDA</th>\n",
       "      <th>EPS_Forecast</th>\n",
       "      <th>Gross_Profit</th>\n",
       "      <th>...</th>\n",
       "      <th>ROE%</th>\n",
       "      <th>ROI%</th>\n",
       "      <th>Total_Assets</th>\n",
       "      <th>Total_Debt</th>\n",
       "      <th>Total_Revenue</th>\n",
       "      <th>YTD_Perf%</th>\n",
       "      <th>Yearly_Perf%</th>\n",
       "      <th>Price_to_Earnings</th>\n",
       "      <th>Price/Rev</th>\n",
       "      <th>Current Assets</th>\n",
       "    </tr>\n",
       "  </thead>\n",
       "  <tbody>\n",
       "    <tr>\n",
       "      <th>0</th>\n",
       "      <td>1.003B</td>\n",
       "      <td>0.38</td>\n",
       "      <td>1.13</td>\n",
       "      <td>2.50</td>\n",
       "      <td>0.21</td>\n",
       "      <td>2.33%</td>\n",
       "      <td>0.64</td>\n",
       "      <td>92.546M</td>\n",
       "      <td>0.20</td>\n",
       "      <td>165.949M</td>\n",
       "      <td>...</td>\n",
       "      <td>1.40</td>\n",
       "      <td>1.16%</td>\n",
       "      <td>1.744B</td>\n",
       "      <td>212.332M</td>\n",
       "      <td>2.053B</td>\n",
       "      <td>1.85%</td>\n",
       "      <td>3.30%</td>\n",
       "      <td>72.19</td>\n",
       "      <td>0.49</td>\n",
       "      <td>1.202B</td>\n",
       "    </tr>\n",
       "    <tr>\n",
       "      <th>1</th>\n",
       "      <td>1.004B</td>\n",
       "      <td>0.99</td>\n",
       "      <td>1.01</td>\n",
       "      <td>—</td>\n",
       "      <td>3.04</td>\n",
       "      <td>0.00%</td>\n",
       "      <td>0.00</td>\n",
       "      <td>422.741M</td>\n",
       "      <td>0.50</td>\n",
       "      <td>285.876M</td>\n",
       "      <td>...</td>\n",
       "      <td>4.67</td>\n",
       "      <td>1.22%</td>\n",
       "      <td>5.413B</td>\n",
       "      <td>3.721B</td>\n",
       "      <td>688.03M</td>\n",
       "      <td>2.76%</td>\n",
       "      <td>103.83%</td>\n",
       "      <td>17.83</td>\n",
       "      <td>1.55</td>\n",
       "      <td>—</td>\n",
       "    </tr>\n",
       "    <tr>\n",
       "      <th>2</th>\n",
       "      <td>1.004B</td>\n",
       "      <td>2.26</td>\n",
       "      <td>1.52</td>\n",
       "      <td>1.43</td>\n",
       "      <td>0.23</td>\n",
       "      <td>0.00%</td>\n",
       "      <td>0.00</td>\n",
       "      <td>125.402M</td>\n",
       "      <td>0.79</td>\n",
       "      <td>210.309M</td>\n",
       "      <td>...</td>\n",
       "      <td>14.06</td>\n",
       "      <td>10.36%</td>\n",
       "      <td>1.019B</td>\n",
       "      <td>93.499M</td>\n",
       "      <td>2.071B</td>\n",
       "      <td>−0.10%</td>\n",
       "      <td>106.61%</td>\n",
       "      <td>18.90</td>\n",
       "      <td>0.46</td>\n",
       "      <td>658.762M</td>\n",
       "    </tr>\n",
       "    <tr>\n",
       "      <th>3</th>\n",
       "      <td>1.005B</td>\n",
       "      <td>−3.90</td>\n",
       "      <td>1.63</td>\n",
       "      <td>4.54</td>\n",
       "      <td>0.35</td>\n",
       "      <td>0.00%</td>\n",
       "      <td>0.00</td>\n",
       "      <td>-49.635M</td>\n",
       "      <td>−0.31</td>\n",
       "      <td>172K</td>\n",
       "      <td>...</td>\n",
       "      <td>−90.03</td>\n",
       "      <td>−65.41%</td>\n",
       "      <td>71.902M</td>\n",
       "      <td>14.256M</td>\n",
       "      <td>4.227M</td>\n",
       "      <td>221.02%</td>\n",
       "      <td>1522.66%</td>\n",
       "      <td>—</td>\n",
       "      <td>153.88</td>\n",
       "      <td>57.997M</td>\n",
       "    </tr>\n",
       "    <tr>\n",
       "      <th>4</th>\n",
       "      <td>1.006B</td>\n",
       "      <td>0.60</td>\n",
       "      <td>1.08</td>\n",
       "      <td>0.21</td>\n",
       "      <td>0.90</td>\n",
       "      <td>3.57%</td>\n",
       "      <td>0.46</td>\n",
       "      <td>—</td>\n",
       "      <td>0.27</td>\n",
       "      <td>—</td>\n",
       "      <td>...</td>\n",
       "      <td>5.05</td>\n",
       "      <td>3.18%</td>\n",
       "      <td>8.942B</td>\n",
       "      <td>844.39M</td>\n",
       "      <td>351.461M</td>\n",
       "      <td>6.89%</td>\n",
       "      <td>−17.45%</td>\n",
       "      <td>21.44</td>\n",
       "      <td>2.94</td>\n",
       "      <td>441.958M</td>\n",
       "    </tr>\n",
       "  </tbody>\n",
       "</table>\n",
       "<p>5 rows × 26 columns</p>\n",
       "</div>"
      ],
      "text/plain": [
       "  Mkt_Cap EPS_Diluted_FY Beta_1Yr Current _Ratio Debt_to_Equity Div_Yield%  \\\n",
       "0  1.003B           0.38     1.13           2.50           0.21      2.33%   \n",
       "1  1.004B           0.99     1.01              —           3.04      0.00%   \n",
       "2  1.004B           2.26     1.52           1.43           0.23      0.00%   \n",
       "3  1.005B          −3.90     1.63           4.54           0.35      0.00%   \n",
       "4  1.006B           0.60     1.08           0.21           0.90      3.57%   \n",
       "\n",
       "  Div_per_Share    EBITDA EPS_Forecast Gross_Profit  ...    ROE%     ROI%  \\\n",
       "0          0.64   92.546M         0.20     165.949M  ...    1.40    1.16%   \n",
       "1          0.00  422.741M         0.50     285.876M  ...    4.67    1.22%   \n",
       "2          0.00  125.402M         0.79     210.309M  ...   14.06   10.36%   \n",
       "3          0.00  -49.635M        −0.31         172K  ...  −90.03  −65.41%   \n",
       "4          0.46         —         0.27            —  ...    5.05    3.18%   \n",
       "\n",
       "  Total_Assets Total_Debt Total_Revenue YTD_Perf% Yearly_Perf%  \\\n",
       "0       1.744B   212.332M        2.053B     1.85%        3.30%   \n",
       "1       5.413B     3.721B       688.03M     2.76%      103.83%   \n",
       "2       1.019B    93.499M        2.071B    −0.10%      106.61%   \n",
       "3      71.902M    14.256M        4.227M   221.02%     1522.66%   \n",
       "4       8.942B    844.39M      351.461M     6.89%      −17.45%   \n",
       "\n",
       "  Price_to_Earnings Price/Rev Current Assets  \n",
       "0             72.19      0.49         1.202B  \n",
       "1             17.83      1.55              —  \n",
       "2             18.90      0.46       658.762M  \n",
       "3                 —    153.88        57.997M  \n",
       "4             21.44      2.94       441.958M  \n",
       "\n",
       "[5 rows x 26 columns]"
      ]
     },
     "execution_count": 950,
     "metadata": {},
     "output_type": "execute_result"
    }
   ],
   "source": [
    "# renaming headers\n",
    "values_df = values_df.rename(columns={\"Mkt Cap\": \"Mkt_Cap\", \"EPS Diluted (FY)\": \"EPS_Diluted_FY\",\"1-Y Beta\": \"Beta_1Yr\", \n",
    "                        \"Current Ratio\": \"Current _Ratio\", \"DEBT/EQUITY\": \"Debt_to_Equity\", \"Div Yield\": \"Div_Yield%\", \n",
    "                        \"Div per Share (FY)\": \"Div_per_Share\",\"EPS Forecast\": \"EPS_Forecast\", \"Gross Profit (FY)\":\"Gross_Profit\", \n",
    "                        \"Income\":\"Net_Income\",\"P/B (FY)\":\"Price_to_Book\", \"P/S\":\"Price_to_Sales\", \"Price/Free Cash Flow\":\"Price_to FCF\",\n",
    "                        \"Quick Ratio\":\"Quick_Ratio\",\"ROA\":\"ROA%\",\"ROE\":\"ROE%\", \"ROI %\":\"ROI%\",\"Assets\":\"Total_Assets\", \"Debt\":\"Total_Debt\", \n",
    "                        \"Revenue\":\"Total_Revenue\", \"YTD Perf\":\"YTD_Perf%\", \"Yearly Perf\":\"Yearly_Perf%\",\"P/E\":\"Price_to_Earnings\",\n",
    "                        \"Price_Rev\":\"Price_to_Revenue\",\"Current_Assets\":\"Current_Assets\"})\n",
    "values_df.head()"
   ]
  },
  {
   "cell_type": "markdown",
   "metadata": {},
   "source": [
    "### 4. Transforming Data Types from object to integers"
   ]
  },
  {
   "cell_type": "code",
   "execution_count": 951,
   "metadata": {},
   "outputs": [],
   "source": [
    "def num_conversion(string):\n",
    "    # converting it to billions\n",
    "    if 'B' in string:\n",
    "        x = string.replace('B', '')\n",
    "        x = no_whitespace(x)\n",
    "        value = float(x)\n",
    "        value = value*1e9\n",
    "        value = int(value)\n",
    "    \n",
    "    # converting it to millions\n",
    "    elif 'M' in string:\n",
    "        x = string.replace('M', '')\n",
    "        x = no_whitespace(x)\n",
    "        value = float(x)\n",
    "        value = value*1000000\n",
    "        value = int(value)\n",
    "    \n",
    "    # converting it to thousands\n",
    "    elif 'K' in string:\n",
    "        x = string.replace('K', '')\n",
    "        x = no_whitespace(x)\n",
    "        value = float(x)\n",
    "        value = value*1000\n",
    "        value = int(value)\n",
    "    \n",
    "    # converting it to percentage\n",
    "    elif '%' in string:\n",
    "        if '−' in string:\n",
    "            x = string.replace('%', '')\n",
    "            x = x.replace('−', '')\n",
    "            x = no_whitespace(x)\n",
    "            value = float(x)*(-1)\n",
    "        else:\n",
    "            x = string.replace('%', '')\n",
    "            x = no_whitespace(x)\n",
    "            value = float(x)\n",
    "    \n",
    "    elif '−' in string:\n",
    "        x = string.replace('−', '')\n",
    "        x = no_whitespace(x)\n",
    "        value = float(x)*(-1)\n",
    "    \n",
    "    elif '—' in string:\n",
    "        value = np.nan\n",
    "    else:\n",
    "        x = string\n",
    "        x = no_whitespace(x)\n",
    "        value = float(x)\n",
    "        \n",
    "    return value"
   ]
  },
  {
   "cell_type": "code",
   "execution_count": 952,
   "metadata": {},
   "outputs": [],
   "source": [
    "# stripping white space from all column type as object\n",
    "def string_to_float(df):\n",
    "   \n",
    "    for col in df.columns:\n",
    "        new = '{}_new'.format(col)\n",
    "        df[new] = ''\n",
    "        df[new] = df[col].apply(num_conversion)\n",
    "        df[col] = df[new]\n",
    "        df = df.drop(columns=[new])\n",
    "\n",
    "    return df\n"
   ]
  },
  {
   "cell_type": "code",
   "execution_count": 953,
   "metadata": {},
   "outputs": [],
   "source": [
    "values_df = string_to_float(values_df)"
   ]
  },
  {
   "cell_type": "code",
   "execution_count": 954,
   "metadata": {},
   "outputs": [
    {
     "name": "stdout",
     "output_type": "stream",
     "text": [
      "There are 2225 rows and 26 columns\n",
      "Mkt_Cap                int64\n",
      "EPS_Diluted_FY       float64\n",
      "Beta_1Yr             float64\n",
      "Current _Ratio       float64\n",
      "Debt_to_Equity       float64\n",
      "Div_Yield%           float64\n",
      "Div_per_Share        float64\n",
      "EBITDA               float64\n",
      "EPS_Forecast         float64\n",
      "Gross_Profit         float64\n",
      "Net_Income           float64\n",
      "Price_to_Book        float64\n",
      "Price_to_Sales       float64\n",
      "Price_to FCF         float64\n",
      "Quick_Ratio          float64\n",
      "ROA%                 float64\n",
      "ROE%                 float64\n",
      "ROI%                 float64\n",
      "Total_Assets         float64\n",
      "Total_Debt           float64\n",
      "Total_Revenue        float64\n",
      "YTD_Perf%            float64\n",
      "Yearly_Perf%         float64\n",
      "Price_to_Earnings    float64\n",
      "Price/Rev            float64\n",
      "Current Assets       float64\n",
      "dtype: object\n",
      "['Mkt_Cap' 'EPS_Diluted_FY' 'Beta_1Yr' 'Current _Ratio' 'Debt_to_Equity'\n",
      " 'Div_Yield%' 'Div_per_Share' 'EBITDA' 'EPS_Forecast' 'Gross_Profit'\n",
      " 'Net_Income' 'Price_to_Book' 'Price_to_Sales' 'Price_to FCF'\n",
      " 'Quick_Ratio' 'ROA%' 'ROE%' 'ROI%' 'Total_Assets' 'Total_Debt'\n",
      " 'Total_Revenue' 'YTD_Perf%' 'Yearly_Perf%' 'Price_to_Earnings'\n",
      " 'Price/Rev' 'Current Assets']\n",
      "[]\n"
     ]
    }
   ],
   "source": [
    "Datatype(values_df)"
   ]
  },
  {
   "cell_type": "markdown",
   "metadata": {},
   "source": [
    "Integrating values with Tickers"
   ]
  },
  {
   "cell_type": "code",
   "execution_count": 955,
   "metadata": {},
   "outputs": [],
   "source": [
    "df= pd.concat([ticker_df, values_df], axis=1)"
   ]
  },
  {
   "cell_type": "markdown",
   "metadata": {},
   "source": [
    "### 5. Check for duplicates"
   ]
  },
  {
   "cell_type": "code",
   "execution_count": 956,
   "metadata": {},
   "outputs": [
    {
     "name": "stdout",
     "output_type": "stream",
     "text": [
      "Ticker Symbol duplicated: False\n"
     ]
    }
   ],
   "source": [
    "print(\"Ticker Symbol duplicated: {}\".format(any(df.Ticker.duplicated())))"
   ]
  },
  {
   "cell_type": "markdown",
   "metadata": {},
   "source": [
    "### 6. Handling Missing Values"
   ]
  },
  {
   "cell_type": "markdown",
   "metadata": {},
   "source": [
    "I created a function to check the percentage of missing values in each feature. deleing null values is always risky, it needs careful analysis. I attempt to check which feature has highest missing values an ddepending on it's important I will either delete or keep the features"
   ]
  },
  {
   "cell_type": "code",
   "execution_count": 967,
   "metadata": {},
   "outputs": [],
   "source": [
    "# check for missing value\n",
    "def percentMissing(df):\n",
    "    \n",
    "    df_numeric = df.select_dtypes(include=[np.number])\n",
    "    numeric_cols = df_numeric.columns.values\n",
    "    print(numeric_cols)\n",
    "    \n",
    "    # % of missing data\n",
    "    for col in df.columns:\n",
    "        # create missing indicator for features with missing data\n",
    "        missing = df[col].isnull()\n",
    "        pct_missing = np.mean(missing)*100\n",
    "        print('{} - {}%'.format(col, round(pct_missing)))\n",
    "        num_missing = np.sum(missing)\n",
    "        \n",
    "    return df"
   ]
  },
  {
   "cell_type": "code",
   "execution_count": 968,
   "metadata": {},
   "outputs": [
    {
     "name": "stdout",
     "output_type": "stream",
     "text": [
      "['Mkt_Cap' 'EPS_Diluted_FY' 'Beta_1Yr' 'Current _Ratio' 'Debt_to_Equity'\n",
      " 'Div_Yield%' 'Div_per_Share' 'EBITDA' 'EPS_Forecast' 'Gross_Profit'\n",
      " 'Net_Income' 'Price_to_Book' 'Price_to_Sales' 'Price_to FCF'\n",
      " 'Quick_Ratio' 'ROA%' 'ROE%' 'ROI%' 'Total_Assets' 'Total_Debt'\n",
      " 'Total_Revenue' 'YTD_Perf%' 'Yearly_Perf%' 'Price_to_Earnings'\n",
      " 'Price/Rev' 'Current Assets']\n",
      "Ticker - 0%\n",
      "Mkt_Cap - 0%\n",
      "EPS_Diluted_FY - 1%\n",
      "Beta_1Yr - 1%\n",
      "Current _Ratio - 5%\n",
      "Debt_to_Equity - 5%\n",
      "Div_Yield% - 0%\n",
      "Div_per_Share - 12%\n",
      "EBITDA - 18%\n",
      "EPS_Forecast - 3%\n",
      "Gross_Profit - 15%\n",
      "Net_Income - 1%\n",
      "Price_to_Book - 19%\n",
      "Price_to_Sales - 6%\n",
      "Price_to FCF - 45%\n",
      "Quick_Ratio - 20%\n",
      "ROA% - 5%\n",
      "ROE% - 9%\n",
      "ROI% - 5%\n",
      "Total_Assets - 0%\n",
      "Total_Debt - 0%\n",
      "Total_Revenue - 1%\n",
      "YTD_Perf% - 1%\n",
      "Yearly_Perf% - 8%\n",
      "Price_to_Earnings - 40%\n",
      "Price/Rev - 9%\n",
      "Current Assets - 5%\n"
     ]
    }
   ],
   "source": [
    "df_missing = percentMissing(df)"
   ]
  },
  {
   "cell_type": "markdown",
   "metadata": {},
   "source": [
    "Based on the above analysis, Price_to_Earnings has 40% of the data missing and Price_to FCF has 45% of data missing along with other variables with less than 20% of the data missing. Losing high percentage of data is not recommended. I am going to wait for to remove some of these features because, some of them can be calculated with the data from API such as PE ratio. This part I am going to redo it after I fetch the data from API, and merge all 3 datasets."
   ]
  },
  {
   "cell_type": "markdown",
   "metadata": {},
   "source": [
    "### 7. Identifying Outliers"
   ]
  },
  {
   "cell_type": "markdown",
   "metadata": {},
   "source": [
    "I am going to attempt to check for outliers without deleting missing values from the original transformed data. SO I will be splitting the variables with high outliers vs. low outliers"
   ]
  },
  {
   "cell_type": "code",
   "execution_count": 960,
   "metadata": {},
   "outputs": [
    {
     "data": {
      "text/plain": [
       "(2225, 19)"
      ]
     },
     "execution_count": 960,
     "metadata": {},
     "output_type": "execute_result"
    }
   ],
   "source": [
    "# drop columns\n",
    "num_df = df_missing.drop(['Ticker','Div_per_Share','EBITDA','Gross_Profit','Price_to_Book','Quick_Ratio','Price_to_Earnings', 'Price_to FCF'], axis=1)\n",
    "num_df.shape"
   ]
  },
  {
   "cell_type": "code",
   "execution_count": 961,
   "metadata": {},
   "outputs": [
    {
     "data": {
      "text/plain": [
       "(1757, 19)"
      ]
     },
     "execution_count": 961,
     "metadata": {},
     "output_type": "execute_result"
    }
   ],
   "source": [
    "# dropping rows\n",
    "num_df = num_df.dropna(axis=0)\n",
    "num_df.shape"
   ]
  },
  {
   "cell_type": "code",
   "execution_count": 962,
   "metadata": {},
   "outputs": [
    {
     "data": {
      "image/png": "[encoded data removed]",
      "text/plain": [
       "<Figure size 1440x2880 with 20 Axes>"
      ]
     },
     "metadata": {
      "needs_background": "light"
     },
     "output_type": "display_data"
    }
   ],
   "source": [
    "# iterating the columns\n",
    "col_names = []\n",
    "for col in num_df.columns: \n",
    "    col_names.append(col)\n",
    "\n",
    "# set figure size\n",
    "plt.rcParams['figure.figsize'] = (20, 40)\n",
    "\n",
    "# make subplots\n",
    "fig, axes = plt.subplots(nrows = 10, ncols = 2)\n",
    "\n",
    "# draw boxplots in for loop\n",
    "axes = axes.ravel()\n",
    "for idx, col in enumerate(col_names):\n",
    "    # seaborn library \n",
    "    sns.boxplot(y=col, data=num_df, ax=axes[idx])\n",
    "\n",
    "plt.show()\n"
   ]
  },
  {
   "cell_type": "code",
   "execution_count": 963,
   "metadata": {},
   "outputs": [
    {
     "data": {
      "text/plain": [
       "(2225, 7)"
      ]
     },
     "execution_count": 963,
     "metadata": {},
     "output_type": "execute_result"
    }
   ],
   "source": [
    "# checking outliers with columns with high missing values\n",
    "missing_features = df_missing[['Div_per_Share','EBITDA','Gross_Profit','Price_to_Book','Quick_Ratio','Price_to_Earnings', 'Price_to FCF']]\n",
    "missing_features.shape"
   ]
  },
  {
   "cell_type": "code",
   "execution_count": 964,
   "metadata": {},
   "outputs": [
    {
     "data": {
      "text/plain": [
       "(668, 7)"
      ]
     },
     "execution_count": 964,
     "metadata": {},
     "output_type": "execute_result"
    }
   ],
   "source": [
    "# dropping rows\n",
    "missing_features = missing_features.dropna(axis=0)\n",
    "missing_features.shape"
   ]
  },
  {
   "cell_type": "code",
   "execution_count": 965,
   "metadata": {},
   "outputs": [
    {
     "data": {
      "image/png": "[encoded data removed]",
      "text/plain": [
       "<Figure size 720x1440 with 8 Axes>"
      ]
     },
     "metadata": {
      "needs_background": "light"
     },
     "output_type": "display_data"
    }
   ],
   "source": [
    "# iterating the columns\n",
    "col_names = []\n",
    "for col in missing_features.columns: \n",
    "    col_names.append(col)\n",
    "\n",
    "# set figure size\n",
    "plt.rcParams['figure.figsize'] = (10, 20)\n",
    "\n",
    "# make subplots\n",
    "fig, axes = plt.subplots(nrows = 4, ncols = 2)\n",
    "\n",
    "# draw boxplots in for loop\n",
    "axes = axes.ravel()\n",
    "for idx, col in enumerate(col_names):\n",
    "    # seaborn library \n",
    "    sns.boxplot(y=col, data=missing_features, ax=axes[idx])\n",
    "\n",
    "plt.show()\n"
   ]
  },
  {
   "cell_type": "markdown",
   "metadata": {},
   "source": [
    "So, most of them have outliers. Some of them also have negative values.  It is common to have EPS, Beta, Debt to Equity, Net Income, ROE, ROI and ROA and YTD performance to be negative. All the other variables has extreme values that could be because of large corporate market cap above 1000B. Those are Amazon, AAPL, Google and couple others. It is also common for companies to have high PE ratio. Whether I want to remove it or not really depends on the kind of analysis I will be doing after the data preparation step, also what features are most significant to the target variable(current stock price), Thus outliers and influential points should be handled after the EDA of the data. After I merged the data, I want to further check whether these outliers are also influential points using cooks distance, if they are then I will most certainly drop those values. For now I am saving saving the cleaned data as it is."
   ]
  },
  {
   "cell_type": "code",
   "execution_count": 970,
   "metadata": {},
   "outputs": [],
   "source": [
    "df.to_csv('clean_htm_data.csv', encoding='utf-8', index=False)"
   ]
  },
  {
   "cell_type": "markdown",
   "metadata": {},
   "source": [
    "### Summary of the Milestone 3"
   ]
  },
  {
   "cell_type": "markdown",
   "metadata": {},
   "source": [
    "I have performed the following steps:\n",
    "1. Reading the data from the html file and webscraped the data table\n",
    "2. Striped String data of whitespace and\n",
    "3. Renaming data headers\n",
    "4. Transforming Data Types from object to integers\n",
    "5. Checked Duplicates \n",
    "6. Identifying Missing values\n",
    "7. Identifying Outliers\n",
    "\n",
    "Number 4 step took the most work, because all columns were suppose to be integers or float values, but instead it was a messy data with symbols and alphabets. All of them were string type, and not in a correct format. I have looked into both missing values and outliers, and identified all the columns with missing values and outliers. However, I have not removed nay values from this dataset, because outliers are not necessarily bad considering large companies with bigger Market Cap can be outlier as well as companies with high PE ratio, both however is quite common. I have to check if it's influential or not, and after that I will be removing it from combined dataset."
   ]
  }
 ],
 "metadata": {
  "kernelspec": {
   "display_name": "Python 3",
   "language": "python",
   "name": "python3"
  },
  "language_info": {
   "codemirror_mode": {
    "name": "ipython",
    "version": 3
   },
   "file_extension": ".py",
   "mimetype": "text/x-python",
   "name": "python",
   "nbconvert_exporter": "python",
   "pygments_lexer": "ipython3",
   "version": "3.7.9"
  }
 },
 "nbformat": 4,
 "nbformat_minor": 4
}
